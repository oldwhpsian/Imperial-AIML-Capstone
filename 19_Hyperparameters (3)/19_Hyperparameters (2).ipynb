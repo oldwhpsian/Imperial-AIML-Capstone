{
 "cells": [
  {
   "cell_type": "markdown",
   "metadata": {},
   "source": [
    "<img src=images/Imperial_logo_crop_2.png width=300 align=right />"
   ]
  },
  {
   "cell_type": "markdown",
   "metadata": {},
   "source": [
    "# Professional Certificate in Machine Learning and Artificial Intelligence"
   ]
  },
  {
   "cell_type": "markdown",
   "metadata": {},
   "source": [
    "# Hyperparameters"
   ]
  },
  {
   "cell_type": "code",
   "execution_count": 1,
   "metadata": {},
   "outputs": [],
   "source": [
    "import numpy as np\n",
    "import pandas as pd\n",
    "from matplotlib import pyplot as plt\n",
    "\n",
    "import torch\n",
    "from torch import nn"
   ]
  },
  {
   "cell_type": "markdown",
   "metadata": {},
   "source": [
    "## Dataset"
   ]
  },
  {
   "cell_type": "code",
   "execution_count": 2,
   "metadata": {},
   "outputs": [],
   "source": [
    "from sklearn.datasets import load_iris\n",
    "\n",
    "X, y = load_iris(return_X_y=True)\n",
    "y = np.array(pd.get_dummies(y))"
   ]
  },
  {
   "cell_type": "markdown",
   "metadata": {},
   "source": [
    "We need to change the format of the data so it is compatible with Pytorch."
   ]
  },
  {
   "cell_type": "code",
   "execution_count": 3,
   "metadata": {},
   "outputs": [],
   "source": [
    "X = torch.tensor(X, dtype=torch.float32)\n",
    "y = torch.tensor(y, dtype=torch.float32)"
   ]
  },
  {
   "cell_type": "markdown",
   "metadata": {},
   "source": [
    "## Pytorch Sequential model"
   ]
  },
  {
   "cell_type": "code",
   "execution_count": 4,
   "metadata": {},
   "outputs": [],
   "source": [
    "# Neural network specification.\n",
    "\n",
    "model = nn.Sequential(nn.Linear(in_features=4, out_features=8),\n",
    "                      nn.Sigmoid(),\n",
    "                      nn.Linear(in_features=8, out_features=3),\n",
    "                      nn.Softmax(dim=1))\n",
    "\n",
    "loss = nn.CrossEntropyLoss()\n",
    "\n",
    "optimizer = torch.optim.SGD(params=model.parameters(), lr=0.1)"
   ]
  },
  {
   "cell_type": "code",
   "execution_count": 5,
   "metadata": {},
   "outputs": [],
   "source": [
    "# Main training loop.\n",
    "\n",
    "losses = []\n",
    "scores = []\n",
    "\n",
    "niter = 5000\n",
    "for i in range(niter):\n",
    "    optimizer.zero_grad()\n",
    "    \n",
    "    pred = model.forward(X)\n",
    "    error = loss(pred, y)\n",
    "    error.backward()\n",
    "    optimizer.step()\n",
    "    \n",
    "    # Save performance metrics.\n",
    "    losses.append(error.item()) # Cross-entropy.\n",
    "    scores.append(torch.sum(torch.argmax(pred, dim=1) == torch.argmax(y, dim=1)) / y.shape[0]) # Accuracy."
   ]
  },
  {
   "cell_type": "code",
   "execution_count": 6,
   "metadata": {},
   "outputs": [
    {
     "data": {
      "image/png": "[encoded data removed]",
      "text/plain": [
       "<Figure size 432x288 with 1 Axes>"
      ]
     },
     "metadata": {
      "needs_background": "light"
     },
     "output_type": "display_data"
    }
   ],
   "source": [
    "# Learning curve (cross-entropy).\n",
    "\n",
    "plt.plot(losses)\n",
    "\n",
    "plt.xlabel('Iteration')\n",
    "plt.ylabel('Cross-entropy')\n",
    "\n",
    "plt.show()"
   ]
  },
  {
   "cell_type": "code",
   "execution_count": 7,
   "metadata": {},
   "outputs": [
    {
     "data": {
      "image/png": "[encoded data removed]",
      "text/plain": [
       "<Figure size 432x288 with 1 Axes>"
      ]
     },
     "metadata": {
      "needs_background": "light"
     },
     "output_type": "display_data"
    }
   ],
   "source": [
    "# Learning curve (accuracy).\n",
    "\n",
    "plt.plot(scores)\n",
    "\n",
    "plt.xlabel('Iteration')\n",
    "plt.ylabel('Accuracy')\n",
    "\n",
    "plt.show()"
   ]
  },
  {
   "cell_type": "code",
   "execution_count": 8,
   "metadata": {},
   "outputs": [
    {
     "data": {
      "text/plain": [
       "tensor([[9.9403e-01, 5.9743e-03, 3.6214e-07],\n",
       "        [9.9184e-01, 8.1559e-03, 5.1181e-07],\n",
       "        [9.9319e-01, 6.8139e-03, 4.2674e-07],\n",
       "        [9.9068e-01, 9.3171e-03, 6.0544e-07],\n",
       "        [9.9418e-01, 5.8234e-03, 3.5388e-07],\n",
       "        [9.9354e-01, 6.4547e-03, 3.8777e-07],\n",
       "        [9.9283e-01, 7.1695e-03, 4.5491e-07],\n",
       "        [9.9310e-01, 6.9041e-03, 4.2535e-07],\n",
       "        [9.8979e-01, 1.0210e-02, 6.8127e-07],\n",
       "        [9.9195e-01, 8.0532e-03, 5.0468e-07],\n",
       "        [9.9434e-01, 5.6550e-03, 3.3724e-07],\n",
       "        [9.9201e-01, 7.9903e-03, 5.0468e-07],\n",
       "        [9.9211e-01, 7.8872e-03, 4.9672e-07],\n",
       "        [9.9344e-01, 6.5639e-03, 4.1931e-07],\n",
       "        [9.9553e-01, 4.4711e-03, 2.6017e-07],\n",
       "        [9.9525e-01, 4.7546e-03, 2.7789e-07],\n",
       "        [9.9493e-01, 5.0722e-03, 3.0022e-07],\n",
       "        [9.9379e-01, 6.2103e-03, 3.7759e-07],\n",
       "        [9.9382e-01, 6.1765e-03, 3.6539e-07],\n",
       "        [9.9413e-01, 5.8733e-03, 3.5561e-07],\n",
       "        [9.9226e-01, 7.7360e-03, 4.6904e-07],\n",
       "        [9.9363e-01, 6.3744e-03, 3.8846e-07],\n",
       "        [9.9505e-01, 4.9500e-03, 3.0027e-07],\n",
       "        [9.8884e-01, 1.1160e-02, 7.0723e-07],\n",
       "        [9.8773e-01, 1.2273e-02, 8.0283e-07],\n",
       "        [9.8965e-01, 1.0354e-02, 6.5557e-07],\n",
       "        [9.9143e-01, 8.5646e-03, 5.3684e-07],\n",
       "        [9.9367e-01, 6.3288e-03, 3.8343e-07],\n",
       "        [9.9386e-01, 6.1397e-03, 3.7120e-07],\n",
       "        [9.9045e-01, 9.5540e-03, 6.1716e-07],\n",
       "        [9.8991e-01, 1.0094e-02, 6.4908e-07],\n",
       "        [9.9297e-01, 7.0314e-03, 4.2428e-07],\n",
       "        [9.9503e-01, 4.9729e-03, 2.9593e-07],\n",
       "        [9.9533e-01, 4.6684e-03, 2.7405e-07],\n",
       "        [9.9144e-01, 8.5571e-03, 5.3903e-07],\n",
       "        [9.9402e-01, 5.9801e-03, 3.6420e-07],\n",
       "        [9.9466e-01, 5.3387e-03, 3.1623e-07],\n",
       "        [9.9429e-01, 5.7049e-03, 3.4759e-07],\n",
       "        [9.9175e-01, 8.2505e-03, 5.3840e-07],\n",
       "        [9.9323e-01, 6.7714e-03, 4.1425e-07],\n",
       "        [9.9412e-01, 5.8778e-03, 3.5749e-07],\n",
       "        [9.8259e-01, 1.7407e-02, 1.2074e-06],\n",
       "        [9.9275e-01, 7.2539e-03, 4.6673e-07],\n",
       "        [9.9096e-01, 9.0393e-03, 5.7045e-07],\n",
       "        [9.9101e-01, 8.9922e-03, 5.6216e-07],\n",
       "        [9.9108e-01, 8.9147e-03, 5.6812e-07],\n",
       "        [9.9394e-01, 6.0615e-03, 3.6796e-07],\n",
       "        [9.9232e-01, 7.6774e-03, 4.8984e-07],\n",
       "        [9.9427e-01, 5.7308e-03, 3.4340e-07],\n",
       "        [9.9334e-01, 6.6636e-03, 4.0936e-07],\n",
       "        [7.1783e-03, 9.9184e-01, 9.8211e-04],\n",
       "        [6.3506e-03, 9.9031e-01, 3.3401e-03],\n",
       "        [4.8914e-03, 9.8850e-01, 6.6053e-03],\n",
       "        [4.6198e-03, 9.4866e-01, 4.6716e-02],\n",
       "        [4.6772e-03, 9.7965e-01, 1.5670e-02],\n",
       "        [3.9367e-03, 9.2459e-01, 7.1477e-02],\n",
       "        [4.8080e-03, 9.7608e-01, 1.9113e-02],\n",
       "        [1.3372e-02, 9.8541e-01, 1.2216e-03],\n",
       "        [5.8579e-03, 9.9152e-01, 2.6266e-03],\n",
       "        [5.5091e-03, 9.5967e-01, 3.4818e-02],\n",
       "        [6.8732e-03, 9.8578e-01, 7.3477e-03],\n",
       "        [6.2492e-03, 9.8632e-01, 7.4300e-03],\n",
       "        [6.8552e-03, 9.9133e-01, 1.8132e-03],\n",
       "        [3.8736e-03, 9.3586e-01, 6.0269e-02],\n",
       "        [1.5048e-02, 9.8428e-01, 6.7569e-04],\n",
       "        [8.3985e-03, 9.9077e-01, 8.3305e-04],\n",
       "        [3.3167e-03, 8.0771e-01, 1.8898e-01],\n",
       "        [7.8298e-03, 9.9078e-01, 1.3881e-03],\n",
       "        [2.4269e-03, 6.7665e-01, 3.2092e-01],\n",
       "        [7.3800e-03, 9.9000e-01, 2.6154e-03],\n",
       "        [1.1500e-03, 3.3337e-01, 6.6548e-01],\n",
       "        [9.1157e-03, 9.8981e-01, 1.0732e-03],\n",
       "        [1.2846e-03, 4.0530e-01, 5.9342e-01],\n",
       "        [4.2299e-03, 9.7241e-01, 2.3360e-02],\n",
       "        [7.6078e-03, 9.9111e-01, 1.2773e-03],\n",
       "        [7.4154e-03, 9.9127e-01, 1.3123e-03],\n",
       "        [4.6582e-03, 9.8673e-01, 8.6111e-03],\n",
       "        [3.0861e-03, 8.3715e-01, 1.5977e-01],\n",
       "        [4.2858e-03, 9.4729e-01, 4.8423e-02],\n",
       "        [1.9026e-02, 9.8065e-01, 3.2017e-04],\n",
       "        [7.4436e-03, 9.8960e-01, 2.9538e-03],\n",
       "        [9.3671e-03, 9.8938e-01, 1.2484e-03],\n",
       "        [8.9421e-03, 9.8971e-01, 1.3484e-03],\n",
       "        [1.4624e-04, 5.3520e-02, 9.4633e-01],\n",
       "        [2.3321e-03, 6.0674e-01, 3.9092e-01],\n",
       "        [5.5683e-03, 9.8138e-01, 1.3056e-02],\n",
       "        [5.4850e-03, 9.8994e-01, 4.5736e-03],\n",
       "        [4.4682e-03, 9.7595e-01, 1.9583e-02],\n",
       "        [7.0881e-03, 9.8861e-01, 4.3041e-03],\n",
       "        [5.3294e-03, 9.7405e-01, 2.0619e-02],\n",
       "        [3.6899e-03, 8.9390e-01, 1.0241e-01],\n",
       "        [4.6321e-03, 9.7470e-01, 2.0666e-02],\n",
       "        [7.1561e-03, 9.9014e-01, 2.7032e-03],\n",
       "        [1.2710e-02, 9.8610e-01, 1.1880e-03],\n",
       "        [5.0409e-03, 9.7258e-01, 2.2381e-02],\n",
       "        [7.0218e-03, 9.8987e-01, 3.1113e-03],\n",
       "        [6.0717e-03, 9.8678e-01, 7.1448e-03],\n",
       "        [6.8717e-03, 9.9091e-01, 2.2144e-03],\n",
       "        [3.2932e-02, 9.6672e-01, 3.4850e-04],\n",
       "        [6.4215e-03, 9.8788e-01, 5.7031e-03],\n",
       "        [4.2750e-06, 2.1480e-03, 9.9785e-01],\n",
       "        [2.1026e-05, 8.6394e-03, 9.9134e-01],\n",
       "        [2.2880e-05, 9.8719e-03, 9.9011e-01],\n",
       "        [2.4225e-05, 1.0299e-02, 9.8968e-01],\n",
       "        [7.9873e-06, 3.7244e-03, 9.9627e-01],\n",
       "        [8.0912e-06, 3.9532e-03, 9.9604e-01],\n",
       "        [3.0279e-05, 1.1388e-02, 9.8858e-01],\n",
       "        [2.0481e-05, 9.2949e-03, 9.9068e-01],\n",
       "        [1.3585e-05, 6.2071e-03, 9.9378e-01],\n",
       "        [1.3440e-05, 5.9238e-03, 9.9406e-01],\n",
       "        [6.0002e-04, 1.9085e-01, 8.0855e-01],\n",
       "        [4.3865e-05, 1.7454e-02, 9.8250e-01],\n",
       "        [5.3479e-05, 2.0978e-02, 9.7897e-01],\n",
       "        [1.2278e-05, 5.2706e-03, 9.9472e-01],\n",
       "        [7.3645e-06, 3.2970e-03, 9.9670e-01],\n",
       "        [3.0229e-05, 1.1834e-02, 9.8814e-01],\n",
       "        [8.8509e-05, 3.4209e-02, 9.6570e-01],\n",
       "        [2.0835e-05, 9.3458e-03, 9.9063e-01],\n",
       "        [3.4312e-06, 1.8626e-03, 9.9813e-01],\n",
       "        [8.3595e-05, 3.2192e-02, 9.6772e-01],\n",
       "        [2.2461e-05, 9.3845e-03, 9.9059e-01],\n",
       "        [2.3891e-05, 9.4031e-03, 9.9057e-01],\n",
       "        [7.2758e-06, 3.6269e-03, 9.9637e-01],\n",
       "        [4.7983e-04, 1.5677e-01, 8.4275e-01],\n",
       "        [3.6726e-05, 1.4899e-02, 9.8506e-01],\n",
       "        [1.3589e-04, 5.3757e-02, 9.4611e-01],\n",
       "        [8.5784e-04, 2.6287e-01, 7.3627e-01],\n",
       "        [6.6482e-04, 2.0828e-01, 7.9106e-01],\n",
       "        [1.0249e-05, 4.6404e-03, 9.9535e-01],\n",
       "        [7.0366e-04, 2.5507e-01, 7.4423e-01],\n",
       "        [3.0398e-05, 1.3270e-02, 9.8670e-01],\n",
       "        [5.1298e-04, 1.9179e-01, 8.0770e-01],\n",
       "        [8.2951e-06, 3.8245e-03, 9.9617e-01],\n",
       "        [1.1721e-03, 3.7809e-01, 6.2074e-01],\n",
       "        [3.3936e-05, 1.4469e-02, 9.8550e-01],\n",
       "        [2.2521e-05, 9.7978e-03, 9.9018e-01],\n",
       "        [1.0460e-05, 4.5816e-03, 9.9541e-01],\n",
       "        [8.6622e-05, 3.3367e-02, 9.6655e-01],\n",
       "        [8.2488e-04, 2.4959e-01, 7.4958e-01],\n",
       "        [1.7682e-04, 6.3390e-02, 9.3643e-01],\n",
       "        [1.2675e-05, 5.5064e-03, 9.9448e-01],\n",
       "        [3.3291e-04, 1.0806e-01, 8.9161e-01],\n",
       "        [2.1026e-05, 8.6394e-03, 9.9134e-01],\n",
       "        [1.0283e-05, 4.6662e-03, 9.9532e-01],\n",
       "        [1.0433e-05, 4.6075e-03, 9.9538e-01],\n",
       "        [6.5098e-05, 2.4012e-02, 9.7592e-01],\n",
       "        [7.6109e-05, 2.8448e-02, 9.7148e-01],\n",
       "        [1.5610e-04, 5.5493e-02, 9.4435e-01],\n",
       "        [2.0394e-05, 8.2631e-03, 9.9172e-01],\n",
       "        [9.4145e-05, 3.4420e-02, 9.6549e-01]], grad_fn=<SoftmaxBackward0>)"
      ]
     },
     "execution_count": 8,
     "metadata": {},
     "output_type": "execute_result"
    }
   ],
   "source": [
    "# Predicted probabilities.\n",
    "\n",
    "model.forward(X)"
   ]
  },
  {
   "cell_type": "code",
   "execution_count": 9,
   "metadata": {},
   "outputs": [
    {
     "data": {
      "text/plain": [
       "tensor([0, 0, 0, 0, 0, 0, 0, 0, 0, 0, 0, 0, 0, 0, 0, 0, 0, 0, 0, 0, 0, 0, 0, 0,\n",
       "        0, 0, 0, 0, 0, 0, 0, 0, 0, 0, 0, 0, 0, 0, 0, 0, 0, 0, 0, 0, 0, 0, 0, 0,\n",
       "        0, 0, 1, 1, 1, 1, 1, 1, 1, 1, 1, 1, 1, 1, 1, 1, 1, 1, 1, 1, 1, 1, 2, 1,\n",
       "        2, 1, 1, 1, 1, 1, 1, 1, 1, 1, 1, 2, 1, 1, 1, 1, 1, 1, 1, 1, 1, 1, 1, 1,\n",
       "        1, 1, 1, 1, 2, 2, 2, 2, 2, 2, 2, 2, 2, 2, 2, 2, 2, 2, 2, 2, 2, 2, 2, 2,\n",
       "        2, 2, 2, 2, 2, 2, 2, 2, 2, 2, 2, 2, 2, 2, 2, 2, 2, 2, 2, 2, 2, 2, 2, 2,\n",
       "        2, 2, 2, 2, 2, 2])"
      ]
     },
     "execution_count": 9,
     "metadata": {},
     "output_type": "execute_result"
    }
   ],
   "source": [
    "# Predicted labels.\n",
    "\n",
    "torch.argmax(model.forward(X), dim=1)"
   ]
  },
  {
   "cell_type": "markdown",
   "metadata": {},
   "source": [
    "## Cross-validation"
   ]
  },
  {
   "cell_type": "code",
   "execution_count": 10,
   "metadata": {},
   "outputs": [],
   "source": [
    "# Dataset.\n",
    "\n",
    "X, y = load_iris(return_X_y=True)\n",
    "y = np.array(pd.get_dummies(y))\n",
    "\n",
    "from sklearn.model_selection import train_test_split\n",
    "\n",
    "X_train, X_test, y_train, y_test = train_test_split(X, y)\n",
    "\n",
    "X_train = torch.tensor(X_train, dtype=torch.float32)\n",
    "X_test = torch.tensor(X_test, dtype=torch.float32)\n",
    "y_train = torch.tensor(y_train, dtype=torch.float32)\n",
    "y_test = torch.tensor(y_test, dtype=torch.float32)"
   ]
  },
  {
   "cell_type": "code",
   "execution_count": 11,
   "metadata": {},
   "outputs": [],
   "source": [
    "# Refactoring the training loop.\n",
    "\n",
    "def train(X, y, niter=5000):\n",
    "    for i in range(niter):\n",
    "        optimizer.zero_grad()\n",
    "\n",
    "        pred = model.forward(X)\n",
    "        error = loss(pred, y)\n",
    "        error.backward()\n",
    "        optimizer.step()\n",
    "\n",
    "def accuracy(pred, y):\n",
    "    pred = torch.argmax(pred, dim=1)\n",
    "    y = torch.argmax(y, dim=1)\n",
    "    \n",
    "    return torch.sum(pred == y) / y.shape[0]\n",
    "\n",
    "def test(X, y):\n",
    "    pred = model.forward(X)\n",
    "    \n",
    "    return accuracy(pred, y)"
   ]
  },
  {
   "cell_type": "markdown",
   "metadata": {},
   "source": [
    "### Compare different learning rates"
   ]
  },
  {
   "cell_type": "code",
   "execution_count": 12,
   "metadata": {},
   "outputs": [],
   "source": [
    "learning_rates = np.linspace(0.0001, 0.1, 10) # Step size.\n",
    "train_scores = []\n",
    "test_scores = []\n",
    "\n",
    "for lr in learning_rates:\n",
    "    model = nn.Sequential(nn.Linear(in_features=4, out_features=8),\n",
    "                          nn.Sigmoid(),\n",
    "                          nn.Linear(in_features=8, out_features=3),\n",
    "                          nn.Softmax(dim=1))\n",
    "\n",
    "    loss = nn.CrossEntropyLoss()\n",
    "\n",
    "    optimizer = torch.optim.SGD(params=model.parameters(), lr=lr)\n",
    "    \n",
    "    # Train and test the network.\n",
    "    train(X_train, y_train)\n",
    "    train_scores.append(test(X_train, y_train))\n",
    "    test_scores.append(test(X_test, y_test))"
   ]
  },
  {
   "cell_type": "code",
   "execution_count": 13,
   "metadata": {},
   "outputs": [
    {
     "data": {
      "image/png": "[encoded data removed]",
      "text/plain": [
       "<Figure size 432x288 with 1 Axes>"
      ]
     },
     "metadata": {
      "needs_background": "light"
     },
     "output_type": "display_data"
    }
   ],
   "source": [
    "# Learning curves (accuracy).\n",
    "\n",
    "plt.plot(learning_rates, train_scores)\n",
    "plt.plot(learning_rates, test_scores)\n",
    "\n",
    "plt.xlabel('Learning rate')\n",
    "plt.ylabel('Accuracy')\n",
    "plt.legend(['Train', 'Test'])\n",
    "\n",
    "plt.show()"
   ]
  },
  {
   "cell_type": "markdown",
   "metadata": {},
   "source": [
    "### Compare different weight decays"
   ]
  },
  {
   "cell_type": "code",
   "execution_count": 14,
   "metadata": {},
   "outputs": [],
   "source": [
    "weight_decays = np.linspace(0.0001, 0.01, 10) # L2 regularization.\n",
    "train_scores = []\n",
    "test_scores = []\n",
    "\n",
    "for weight_decay in weight_decays:\n",
    "    model = nn.Sequential(nn.Linear(in_features=4, out_features=8),\n",
    "                          nn.Sigmoid(),\n",
    "                          nn.Linear(in_features=8, out_features=3),\n",
    "                          nn.Softmax(dim=1))\n",
    "\n",
    "    loss = nn.CrossEntropyLoss()\n",
    "\n",
    "    optimizer = torch.optim.SGD(params=model.parameters(), lr=0.05, weight_decay=weight_decay)\n",
    "    \n",
    "    # Train and test the network.\n",
    "    train(X_train, y_train)\n",
    "    train_scores.append(test(X_train, y_train))\n",
    "    test_scores.append(test(X_test, y_test))"
   ]
  },
  {
   "cell_type": "code",
   "execution_count": 15,
   "metadata": {},
   "outputs": [
    {
     "data": {
      "image/png": "[encoded data removed]",
      "text/plain": [
       "<Figure size 432x288 with 1 Axes>"
      ]
     },
     "metadata": {
      "needs_background": "light"
     },
     "output_type": "display_data"
    }
   ],
   "source": [
    "# Learning curves (accuracy).\n",
    "\n",
    "plt.plot(learning_rates, train_scores)\n",
    "plt.plot(learning_rates, test_scores)\n",
    "\n",
    "plt.xlabel('Weight decay')\n",
    "plt.ylabel('Accuracy')\n",
    "plt.legend(['Train', 'Test'])\n",
    "\n",
    "plt.show()"
   ]
  }
 ],
 "metadata": {
  "kernelspec": {
   "display_name": "Python 3 (ipykernel)",
   "language": "python",
   "name": "python3"
  },
  "language_info": {
   "codemirror_mode": {
    "name": "ipython",
    "version": 3
   },
   "file_extension": ".py",
   "mimetype": "text/x-python",
   "name": "python",
   "nbconvert_exporter": "python",
   "pygments_lexer": "ipython3",
   "version": "3.9.12"
  }
 },
 "nbformat": 4,
 "nbformat_minor": 4
}
