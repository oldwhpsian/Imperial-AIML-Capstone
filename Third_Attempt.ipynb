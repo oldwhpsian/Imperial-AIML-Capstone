{
 "cells": [
  {
   "cell_type": "code",
   "execution_count": 1,
   "id": "287e1dcf",
   "metadata": {},
   "outputs": [],
   "source": [
    "from classes_functions import (BlackBoxFunction, import_weekly_queries_results, \n",
    "    save_all_data, backup_all_data, make_mesh)\n",
    "\n",
    "import numpy as np\n",
    "import pandas as pd\n",
    "import matplotlib.pyplot as plt\n",
    "import seaborn as sns\n",
    "\n",
    "import numpy as np\n",
    "import matplotlib.pyplot as plt\n",
    "from IPython.display import clear_output\n",
    "\n",
    "from sklearn.gaussian_process import GaussianProcessRegressor\n",
    "from sklearn.gaussian_process.kernels import RBF\n",
    "from scipy.stats import norm"
   ]
  },
  {
   "cell_type": "code",
   "execution_count": 2,
   "id": "1b34ca21",
   "metadata": {},
   "outputs": [],
   "source": [
    "function_1 = BlackBoxFunction('function_1')\n",
    "function_2 = BlackBoxFunction('function_2')\n",
    "function_3 = BlackBoxFunction('function_3')\n",
    "function_4 = BlackBoxFunction('function_4')\n",
    "function_5 = BlackBoxFunction('function_5')\n",
    "function_6 = BlackBoxFunction('function_6')\n",
    "function_7 = BlackBoxFunction('function_7')\n",
    "function_8 = BlackBoxFunction('function_8')\n",
    "\n",
    "all_bbox_functions = [function_1, function_2, function_3, function_4, function_5, function_6, function_7, function_8]\n",
    "\n"
   ]
  },
  {
   "cell_type": "code",
   "execution_count": 4,
   "id": "849c9bf6",
   "metadata": {},
   "outputs": [],
   "source": [
    "# queries, results = import_weekly_queries_results(10)"
   ]
  },
  {
   "cell_type": "code",
   "execution_count": 5,
   "id": "a14478c1",
   "metadata": {},
   "outputs": [
    {
     "name": "stderr",
     "output_type": "stream",
     "text": [
      "C:\\Users\\John\\Desktop\\Capstone for GitHub\\Imperial-AIML-Capstone\\classes_functions.py:46: FutureWarning: The frame.append method is deprecated and will be removed from pandas in a future version. Use pandas.concat instead.\n",
      "  self.data = self.data.append(to_append, ignore_index=True)\n",
      "C:\\Users\\John\\Desktop\\Capstone for GitHub\\Imperial-AIML-Capstone\\classes_functions.py:46: FutureWarning: The frame.append method is deprecated and will be removed from pandas in a future version. Use pandas.concat instead.\n",
      "  self.data = self.data.append(to_append, ignore_index=True)\n",
      "C:\\Users\\John\\Desktop\\Capstone for GitHub\\Imperial-AIML-Capstone\\classes_functions.py:46: FutureWarning: The frame.append method is deprecated and will be removed from pandas in a future version. Use pandas.concat instead.\n",
      "  self.data = self.data.append(to_append, ignore_index=True)\n",
      "C:\\Users\\John\\Desktop\\Capstone for GitHub\\Imperial-AIML-Capstone\\classes_functions.py:46: FutureWarning: The frame.append method is deprecated and will be removed from pandas in a future version. Use pandas.concat instead.\n",
      "  self.data = self.data.append(to_append, ignore_index=True)\n",
      "C:\\Users\\John\\Desktop\\Capstone for GitHub\\Imperial-AIML-Capstone\\classes_functions.py:46: FutureWarning: The frame.append method is deprecated and will be removed from pandas in a future version. Use pandas.concat instead.\n",
      "  self.data = self.data.append(to_append, ignore_index=True)\n",
      "C:\\Users\\John\\Desktop\\Capstone for GitHub\\Imperial-AIML-Capstone\\classes_functions.py:46: FutureWarning: The frame.append method is deprecated and will be removed from pandas in a future version. Use pandas.concat instead.\n",
      "  self.data = self.data.append(to_append, ignore_index=True)\n",
      "C:\\Users\\John\\Desktop\\Capstone for GitHub\\Imperial-AIML-Capstone\\classes_functions.py:46: FutureWarning: The frame.append method is deprecated and will be removed from pandas in a future version. Use pandas.concat instead.\n",
      "  self.data = self.data.append(to_append, ignore_index=True)\n",
      "C:\\Users\\John\\Desktop\\Capstone for GitHub\\Imperial-AIML-Capstone\\classes_functions.py:46: FutureWarning: The frame.append method is deprecated and will be removed from pandas in a future version. Use pandas.concat instead.\n",
      "  self.data = self.data.append(to_append, ignore_index=True)\n"
     ]
    }
   ],
   "source": [
    "# # ''' Loop that will add the weeks queries to the data in the function objects then save the data'''\n",
    "# # ''' Only run this cell once per week.'''\n",
    "# for query, result, function in zip(queries, results, all_bbox_functions):\n",
    "#     function.add_query(query, result)\n",
    "#     function.export_data_excel()"
   ]
  },
  {
   "cell_type": "code",
   "execution_count": 6,
   "id": "d9ace84c",
   "metadata": {},
   "outputs": [
    {
     "name": "stdout",
     "output_type": "stream",
     "text": [
      "function_1 done.\n",
      "function_2 done.\n",
      "function_3 done.\n",
      "function_4 done.\n",
      "function_5 done.\n",
      "function_6 done.\n",
      "function_7 done.\n",
      "function_8 done.\n"
     ]
    },
    {
     "data": {
      "text/plain": [
       "[[0.617517, 0.626726],\n",
       " [0.711623, 0.351432],\n",
       " [0.475798, 0.222853, 0.434177],\n",
       " [0.477766, 0.328772, 0.325826, 0.149007],\n",
       " [0.308163, 0.937484, 0.956893, 0.879591],\n",
       " [0.628186, 0.054693, 0.632552, 0.593997, 0.0],\n",
       " [0.180486, 0.2416, 0.402064, 0.217995, 0.374398, 0.850835],\n",
       " [0.057373,\n",
       "  0.080047,\n",
       "  0.203423,\n",
       "  0.023373,\n",
       "  0.260007,\n",
       "  0.343847,\n",
       "  0.308406,\n",
       "  0.812396]]"
      ]
     },
     "execution_count": 6,
     "metadata": {},
     "output_type": "execute_result"
    }
   ],
   "source": [
    "length_scale = 0.01\n",
    "UCB_queries = []\n",
    "PI_queries = []\n",
    "for function in all_bbox_functions:\n",
    "    function.localize(0.1, function.sample_density)\n",
    "    function.fit_GP_model(length_scale, beta=1)\n",
    "    function.predict()\n",
    "    UCB_queries.append(function.UCB_prediction_lst)\n",
    "    PI_queries.append(function.PI_prediction_lst)\n",
    "    print(function.name + ' done.')"
   ]
  },
  {
   "cell_type": "code",
   "execution_count": 10,
   "id": "d93acd7e",
   "metadata": {},
   "outputs": [
    {
     "name": "stdout",
     "output_type": "stream",
     "text": [
      "0.607307-0.626926\n",
      "0.711222-0.351031\n",
      "0.575295-0.322350-0.533675\n",
      "0.575725-0.426731-0.423785-0.246967\n",
      "0.206122-0.838775-0.859183-0.777550\n",
      "0.628186-0.054693-0.632552-0.593997-0.000000\n",
      "0.180486-0.241600-0.402064-0.217995-0.374398-0.850835\n",
      "0.057373-0.080047-0.203423-0.023373-0.260007-0.343847-0.308406-0.812396\n"
     ]
    }
   ],
   "source": [
    "for f in all_bbox_functions:\n",
    "    print(f.PI_prediction_str)"
   ]
  },
  {
   "cell_type": "code",
   "execution_count": 4,
   "id": "72406bff",
   "metadata": {},
   "outputs": [
    {
     "name": "stdout",
     "output_type": "stream",
     "text": [
      "PI:   [False, False, False, False, False, False, False, False] \n",
      "UCB:  [False, False, False, False, False, False, False, False]\n"
     ]
    }
   ],
   "source": [
    "redundant_PI = [f.redundant_PI for f in all_bbox_functions]\n",
    "redundant_UCB = [f.redundant_UCB for f in all_bbox_functions]\n",
    "print('PI:  ', redundant_PI, '\\nUCB: ', redundant_UCB)"
   ]
  },
  {
   "cell_type": "code",
   "execution_count": 3,
   "id": "2b05356d",
   "metadata": {},
   "outputs": [
    {
     "data": {
      "text/html": [
       "<div>\n",
       "<style scoped>\n",
       "    .dataframe tbody tr th:only-of-type {\n",
       "        vertical-align: middle;\n",
       "    }\n",
       "\n",
       "    .dataframe tbody tr th {\n",
       "        vertical-align: top;\n",
       "    }\n",
       "\n",
       "    .dataframe thead th {\n",
       "        text-align: right;\n",
       "    }\n",
       "</style>\n",
       "<table border=\"1\" class=\"dataframe\">\n",
       "  <thead>\n",
       "    <tr style=\"text-align: right;\">\n",
       "      <th></th>\n",
       "      <th>X_1</th>\n",
       "      <th>X_2</th>\n",
       "      <th>X_3</th>\n",
       "      <th>X_4</th>\n",
       "      <th>X_5</th>\n",
       "      <th>X_6</th>\n",
       "      <th>X_7</th>\n",
       "      <th>X_8</th>\n",
       "      <th>Y</th>\n",
       "      <th>Type</th>\n",
       "    </tr>\n",
       "  </thead>\n",
       "  <tbody>\n",
       "    <tr>\n",
       "      <th>80</th>\n",
       "      <td>0.265797</td>\n",
       "      <td>0.384769</td>\n",
       "      <td>0.152957</td>\n",
       "      <td>0.831771</td>\n",
       "      <td>0.619797</td>\n",
       "      <td>0.838113</td>\n",
       "      <td>0.360232</td>\n",
       "      <td>0.819889</td>\n",
       "      <td>9.236773</td>\n",
       "      <td>query</td>\n",
       "    </tr>\n",
       "    <tr>\n",
       "      <th>81</th>\n",
       "      <td>0.200000</td>\n",
       "      <td>0.999999</td>\n",
       "      <td>0.200000</td>\n",
       "      <td>0.000000</td>\n",
       "      <td>0.400000</td>\n",
       "      <td>0.400000</td>\n",
       "      <td>0.599999</td>\n",
       "      <td>0.200000</td>\n",
       "      <td>8.794303</td>\n",
       "      <td>query</td>\n",
       "    </tr>\n",
       "    <tr>\n",
       "      <th>82</th>\n",
       "      <td>0.200000</td>\n",
       "      <td>0.400000</td>\n",
       "      <td>0.200000</td>\n",
       "      <td>0.799999</td>\n",
       "      <td>0.599999</td>\n",
       "      <td>0.799999</td>\n",
       "      <td>0.400000</td>\n",
       "      <td>0.799999</td>\n",
       "      <td>9.286302</td>\n",
       "      <td>query</td>\n",
       "    </tr>\n",
       "    <tr>\n",
       "      <th>83</th>\n",
       "      <td>0.200000</td>\n",
       "      <td>0.400000</td>\n",
       "      <td>0.200000</td>\n",
       "      <td>0.799999</td>\n",
       "      <td>0.599999</td>\n",
       "      <td>0.799999</td>\n",
       "      <td>0.500000</td>\n",
       "      <td>0.800000</td>\n",
       "      <td>9.186302</td>\n",
       "      <td>query</td>\n",
       "    </tr>\n",
       "    <tr>\n",
       "      <th>84</th>\n",
       "      <td>0.200000</td>\n",
       "      <td>0.400000</td>\n",
       "      <td>0.000000</td>\n",
       "      <td>0.799999</td>\n",
       "      <td>0.599999</td>\n",
       "      <td>0.799999</td>\n",
       "      <td>0.400000</td>\n",
       "      <td>0.799999</td>\n",
       "      <td>9.250302</td>\n",
       "      <td>query</td>\n",
       "    </tr>\n",
       "    <tr>\n",
       "      <th>85</th>\n",
       "      <td>0.200000</td>\n",
       "      <td>0.400000</td>\n",
       "      <td>0.200000</td>\n",
       "      <td>0.799999</td>\n",
       "      <td>0.599999</td>\n",
       "      <td>0.799999</td>\n",
       "      <td>0.400000</td>\n",
       "      <td>0.799999</td>\n",
       "      <td>9.286302</td>\n",
       "      <td>query</td>\n",
       "    </tr>\n",
       "    <tr>\n",
       "      <th>86</th>\n",
       "      <td>0.200000</td>\n",
       "      <td>0.400000</td>\n",
       "      <td>0.200000</td>\n",
       "      <td>0.799999</td>\n",
       "      <td>0.599999</td>\n",
       "      <td>0.799999</td>\n",
       "      <td>0.599999</td>\n",
       "      <td>0.799999</td>\n",
       "      <td>9.046303</td>\n",
       "      <td>query</td>\n",
       "    </tr>\n",
       "    <tr>\n",
       "      <th>87</th>\n",
       "      <td>0.000000</td>\n",
       "      <td>0.000000</td>\n",
       "      <td>0.000000</td>\n",
       "      <td>0.000000</td>\n",
       "      <td>0.000000</td>\n",
       "      <td>0.000000</td>\n",
       "      <td>0.000000</td>\n",
       "      <td>0.000000</td>\n",
       "      <td>9.198300</td>\n",
       "      <td>query</td>\n",
       "    </tr>\n",
       "    <tr>\n",
       "      <th>88</th>\n",
       "      <td>0.000000</td>\n",
       "      <td>0.000000</td>\n",
       "      <td>0.000000</td>\n",
       "      <td>0.000000</td>\n",
       "      <td>0.000000</td>\n",
       "      <td>0.000000</td>\n",
       "      <td>0.000000</td>\n",
       "      <td>0.200000</td>\n",
       "      <td>9.218300</td>\n",
       "      <td>query</td>\n",
       "    </tr>\n",
       "  </tbody>\n",
       "</table>\n",
       "</div>"
      ],
      "text/plain": [
       "         X_1       X_2       X_3       X_4       X_5       X_6       X_7  \\\n",
       "80  0.265797  0.384769  0.152957  0.831771  0.619797  0.838113  0.360232   \n",
       "81  0.200000  0.999999  0.200000  0.000000  0.400000  0.400000  0.599999   \n",
       "82  0.200000  0.400000  0.200000  0.799999  0.599999  0.799999  0.400000   \n",
       "83  0.200000  0.400000  0.200000  0.799999  0.599999  0.799999  0.500000   \n",
       "84  0.200000  0.400000  0.000000  0.799999  0.599999  0.799999  0.400000   \n",
       "85  0.200000  0.400000  0.200000  0.799999  0.599999  0.799999  0.400000   \n",
       "86  0.200000  0.400000  0.200000  0.799999  0.599999  0.799999  0.599999   \n",
       "87  0.000000  0.000000  0.000000  0.000000  0.000000  0.000000  0.000000   \n",
       "88  0.000000  0.000000  0.000000  0.000000  0.000000  0.000000  0.000000   \n",
       "\n",
       "         X_8         Y   Type  \n",
       "80  0.819889  9.236773  query  \n",
       "81  0.200000  8.794303  query  \n",
       "82  0.799999  9.286302  query  \n",
       "83  0.800000  9.186302  query  \n",
       "84  0.799999  9.250302  query  \n",
       "85  0.799999  9.286302  query  \n",
       "86  0.799999  9.046303  query  \n",
       "87  0.000000  9.198300  query  \n",
       "88  0.200000  9.218300  query  "
      ]
     },
     "execution_count": 3,
     "metadata": {},
     "output_type": "execute_result"
    }
   ],
   "source": [
    "function_8.data.iloc[-9:]"
   ]
  },
  {
   "cell_type": "markdown",
   "id": "91b479c3",
   "metadata": {},
   "source": [
    "How did this whole thing evolve? Very simply at first. I didn't really know what I was doing on the ML algorithm side of things so I first wrote code to sweep through the inputs in each dimension and find the largest interval in that dimension that had not been sampled. I then cut that interval in half and sampled that point. repeat for each dimension.\n",
    "\n",
    "Then I wrote some code that actually performed BO using a class called BlackBoxFunction that imports and holds all the data for each function, and has methods to call for the data etc. I combined this with a BO algorithm using an RBF kernel and GaussianProcessRegressor. The main thing that I found challenging was the generation of the sample space in n-dimensions. i.e. for 1D you can simply call linspace(0,0.9999, 10000) to have an extremely densely packed space from which to sample (i.e. over which to build the surrogate. I created a function called make_mesh that took in the number of dimensions and required \"density\" of the space in order to generate n-dimensional meshes which I could use to generate the surrogate model. I quickly learned the difficulties of expanding to higher dimensions, as my make_mesh function relied on nested for loops that had extremely poor time complexity of O(n^D). As the dimensions D increased, the function became exponentially less efficient to compute the spaces. Thus, as the functions grew in dimension I had to severly limit the density at which each dimension could be sampled. As an example, for 2D functions I can get pack each of the dimensions with 1000 points, but this had to drop to 200 points per dimension in 3D, and down to 6 (!) points per dimension in 8D. I currently still sit with this problem, that I can truly not even begin to properly explore the space! I have thought of perhaps using another function to generate these n-dimensional meshes, analagous to the MATLAB function MESHGRID or NGRID. Indeed numpy itself has a function called meshgrid that I stumbled upon when searching for the MATLAB equivalent. Unfortunately, numpy's meshgrid seemed to suffer from the same curse of dimensionality.\n",
    "\n",
    "Initially I only calculated UCB for a couple weeks (after I built the above, ofc). Then added PI calculations as well such that I could compare the two manually to see the differences. UCB seemed to be very exploitative regardless of the value for B I gave it. Both models gave a problem that they would sometimes recommend the same points that have been previously queried! To help combat this I wrote some code to check if the new queries generated already existed in the data, such that I may know that I needed to do something to recify the issue.\n",
    "\n",
    "To help combat the repeated queries of the same points, I went back to the bayesian optimization notebook from week 12. I ran tests on known functions and identified that the model was again converging onto the same point repeatedly after just 13 iterations. This was happening on input intervals of [0,1] but not on larger intervals. In fact, the larger the interval the more iterations it took for the model to converge. This tipped me off to the length scale of the kernel. Having a tight input domain of [0,1] means that the length scale will have a larger effect. Reducing the length scale helped allieviate my problem of seeing the same repeated queries, though the problem was still there in a big way for the PI calculations. \n",
    "\n",
    "- Next up I will look into the possibility of using other kernels for the GP model\n",
    "- I will look deeper into the length scale to see if there are general heuristics that can help choose the scale, ideally in an automated way that will vary depending on the size of the dataset/the number of weeks/epochs that have passed. \n",
    "- Different length scales for different dimensions!\n",
    "\n",
    "\n",
    "### I think I identified a workflow error! I would load the previous queries and data in and have it exported to excel. But for some reason, that data was not being incorporated into function.data in that process. That meant that when making the predicitions, the model was just predicting the same values as the previus week as it thought that it hadn't made that prediction yet!\n",
    "\n",
    "### Function 5 predicted a big fish on interation 47! It will likely want to stay stuck there now since the others are so much smaller. \n",
    "\n",
    "# Maybe I need to generate local meshes around optima to deter the mdoels from getting stuck in higher dimensions where I have less dense dimensions?"
   ]
  },
  {
   "cell_type": "code",
   "execution_count": 14,
   "id": "7cd805f8",
   "metadata": {},
   "outputs": [
    {
     "data": {
      "text/plain": [
       "[0.0, 0.0, 0.0]"
      ]
     },
     "execution_count": 14,
     "metadata": {},
     "output_type": "execute_result"
    }
   ],
   "source": [
    "function_3.PI_prediction_lst"
   ]
  },
  {
   "cell_type": "code",
   "execution_count": null,
   "id": "da0db83b",
   "metadata": {},
   "outputs": [],
   "source": []
  },
  {
   "cell_type": "code",
   "execution_count": null,
   "id": "2be8ff56",
   "metadata": {},
   "outputs": [],
   "source": []
  },
  {
   "cell_type": "code",
   "execution_count": null,
   "id": "772c1209",
   "metadata": {},
   "outputs": [],
   "source": []
  },
  {
   "cell_type": "code",
   "execution_count": null,
   "id": "db44fedc",
   "metadata": {},
   "outputs": [],
   "source": []
  },
  {
   "cell_type": "code",
   "execution_count": null,
   "id": "245056d6",
   "metadata": {},
   "outputs": [],
   "source": []
  },
  {
   "cell_type": "code",
   "execution_count": null,
   "id": "d6562c96",
   "metadata": {},
   "outputs": [],
   "source": [
    "space = np.linspace(0,99,100)\n",
    "xx, yy = np.meshgrid(space, space, sparse=True)\n",
    "zz = xx**2 + yy**2\n"
   ]
  },
  {
   "cell_type": "code",
   "execution_count": null,
   "id": "1961567d",
   "metadata": {},
   "outputs": [],
   "source": [
    "plt.scatter(xx, yy, zz)\n",
    "plt.show()"
   ]
  },
  {
   "cell_type": "code",
   "execution_count": null,
   "id": "c49f50f1",
   "metadata": {},
   "outputs": [],
   "source": []
  }
 ],
 "metadata": {
  "kernelspec": {
   "display_name": "Python 3 (ipykernel)",
   "language": "python",
   "name": "python3"
  },
  "language_info": {
   "codemirror_mode": {
    "name": "ipython",
    "version": 3
   },
   "file_extension": ".py",
   "mimetype": "text/x-python",
   "name": "python",
   "nbconvert_exporter": "python",
   "pygments_lexer": "ipython3",
   "version": "3.9.12"
  }
 },
 "nbformat": 4,
 "nbformat_minor": 5
}
