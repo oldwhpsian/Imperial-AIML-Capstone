{
 "cells": [
  {
   "cell_type": "code",
   "execution_count": 1,
   "id": "5d28fe32",
   "metadata": {},
   "outputs": [],
   "source": [
    "import numpy as np\n",
    "import pandas as pd\n",
    "import matplotlib.pyplot as plt\n",
    "import seaborn as sns"
   ]
  },
  {
   "cell_type": "code",
   "execution_count": 3,
   "id": "be0f11c0",
   "metadata": {},
   "outputs": [],
   "source": [
    "\"\"\"This code is the first that was written for the project and loads the original INITIAL data that was provided\"\"\"\n",
    "\n",
    "\"\"\" The code below creates function names and automatically loads the inputs and outputs and stores them in lists\"\"\"\n",
    "total_functions = 8\n",
    "function_dimensions = {}\n",
    "function_names = []\n",
    "initial_inputs = []\n",
    "initial_outputs = []\n",
    "for i in range(1,9):\n",
    "    function_name = f\"function_{i}\"\n",
    "    function_names.append(function_name)\n",
    "    initial_input_data = np.load(f\"initial_data/{function_name}/initial_inputs.npy\")\n",
    "    initial_inputs.append(initial_input_data)\n",
    "    initial_output_data = np.load(f\"initial_data/{function_name}/initial_outputs.npy\")\n",
    "    initial_outputs.append(initial_output_data)\n",
    "    X_dimensions = len(initial_input_data[0])\n",
    "    Y_dimensions = 1 if isinstance(initial_output_data[0], float) else len(initial_output_data[0])\n",
    "    function_dimensions[function_name] = (X_dimensions, Y_dimensions)\n",
    "\n",
    "\"\"\"The below code then stores creates a total df for each function (in/out) and stores it in a dictionary\n",
    "     We thus have a dictionary of dataframes.\"\"\"\n",
    "function_df_dict = {}\n",
    "for (idx, f) in enumerate(function_names):\n",
    "    working_df = pd.DataFrame()\n",
    "    headers = []\n",
    "    for i in range(len(initial_inputs[idx][0])):\n",
    "        headers.append(f\"X_{i+1}\")\n",
    "    working_df[headers] = initial_inputs[idx]\n",
    "    working_df['Y'] = initial_outputs[idx]\n",
    "    function_df_dict[f] = working_df\n",
    "    "
   ]
  },
  {
   "cell_type": "code",
   "execution_count": 161,
   "id": "da76235b",
   "metadata": {},
   "outputs": [],
   "source": [
    "class BlackBoxFunction():\n",
    "    '''A class that will behave as one of the BB functions in the capstone\n",
    "        Aim to have attributes such as X, y, dimensionality (tuple), length, a full df holding all data,\n",
    "        and dfs holding initial vs quieries'''\n",
    "    # this was the first ever init just to get the data exported to excel\n",
    "#     def __init__(self, data, name):\n",
    "#         self.data = pd.DataFrame(data)\n",
    "#         self.data['Type'] = 'initial'\n",
    "#         self.X = self.data.drop(['Y', 'Type'], axis = 1)\n",
    "#         self.Y = self.data['Y']\n",
    "#         self.Type = self.data['Type']\n",
    "#         x_dims = self.X.shape[1]\n",
    "#         y_dims = 1\n",
    "#         self.io = (x_dims, y_dims) # dimensions\n",
    "#         self.length = len(self.data)\n",
    "#         self.name = name\n",
    "    \n",
    "    def __init__(self, name):\n",
    "        load_path = f\"working_data/{name}.xlsx\"\n",
    "        self.data = pd.load_excel(load_path)\n",
    "        self.X = self.data.drop(['Y', 'Type'], axis = 1)\n",
    "        self.Y = self.data['Y']\n",
    "        self.Type = self.data['Type']\n",
    "        x_dims = self.X.shape[1]\n",
    "        y_dims = 1\n",
    "        self.io = (x_dims, y_dims) # dimensions\n",
    "        self.length = len(self.data)\n",
    "        self.name = name\n",
    "    \n",
    "    def add_query(self, quiery, result):\n",
    "        to_append = []\n",
    "        \n",
    "        for x in quiery:\n",
    "            to_append.append(x)\n",
    "        to_append.append(result)\n",
    "        to_append.append('query')\n",
    "        to_append = pd.DataFrame(to_append).T\n",
    "        to_append.columns = self.data.columns\n",
    "        self.data = self.data.append(to_append, ignore_index=True)\n",
    "        \n",
    "    def export_data_excel(self):\n",
    "        export_name = f\"working_data/{self.name}_data.xlsx\"\n",
    "        self.data.to_excel(export_name)\n",
    "    "
   ]
  },
  {
   "cell_type": "code",
   "execution_count": null,
   "id": "7ba7edc9",
   "metadata": {},
   "outputs": [],
   "source": [
    "function_1 = BlackBoxFunction(function_df_dict['function_1'], 'function_1')\n",
    "function_2 = BlackBoxFunction(function_df_dict['function_2'], 'function_2')\n",
    "function_3 = BlackBoxFunction(function_df_dict['function_3'], 'function_3')\n",
    "function_4 = BlackBoxFunction(function_df_dict['function_4'], 'function_4')\n",
    "function_5 = BlackBoxFunction(function_df_dict['function_5'], 'function_5')\n",
    "function_6 = BlackBoxFunction(function_df_dict['function_6'], 'function_6')\n",
    "function_7 = BlackBoxFunction(function_df_dict['function_7'], 'function_7')\n",
    "function_8 = BlackBoxFunction(function_df_dict['function_8'], 'function_8')\n",
    "\n",
    "all_bbox_functions = [function_1, function_2, function_3, function_4, function_5, function_6, function_7, function_8]"
   ]
  },
  {
   "cell_type": "code",
   "execution_count": null,
   "id": "a99ea567",
   "metadata": {},
   "outputs": [],
   "source": [
    "class BlackBoxFunction():\n",
    "    '''A class that will behave as one of the BB functions in the capstone\n",
    "        Aim to have attributes such as X, y, dimensionality (tuple), length, a full df holding all data,\n",
    "        and dfs holding initial vs quieries'''\n",
    "    # this was the first ever init just to get the data exported to excel\n",
    "    def __init__(self, data, name):\n",
    "        self.data = pd.DataFrame(data)\n",
    "        self.data['Type'] = 'initial'\n",
    "        self.X = self.data.drop(['Y', 'Type'], axis = 1)\n",
    "        self.Y = self.data['Y']\n",
    "        self.Type = self.data['Type']\n",
    "        x_dims = self.X.shape[1]\n",
    "        y_dims = 1\n",
    "        self.io = (x_dims, y_dims) # dimensions\n",
    "        self.length = len(self.data)\n",
    "        self.name = name\n",
    "    \n",
    "    \n",
    "    def add_query(self, quiery, result):\n",
    "        to_append = []\n",
    "        \n",
    "        for x in quiery:\n",
    "            to_append.append(x)\n",
    "        to_append.append(result)\n",
    "        to_append.append('query')\n",
    "        to_append = pd.DataFrame(to_append).T\n",
    "        to_append.columns = self.data.columns\n",
    "        self.data = self.data.append(to_append, ignore_index=True)\n",
    "        \n",
    "    def export_data_excel(self):\n",
    "        export_name = f\"working_data/{self.name}_data.xlsx\"\n",
    "        self.data.to_excel(export_name)"
   ]
  },
  {
   "cell_type": "code",
   "execution_count": 162,
   "id": "d37efaf4",
   "metadata": {},
   "outputs": [],
   "source": [
    "def load_quiery_and_result(query_number):\n",
    "#     query_path = f\"queries/{query_number}/queries.txt\"\n",
    "#     result_path = f\"queries/{query_number}/observations.txt\"\n",
    "    \n",
    "#     query = np.loadtxt(query_path, delimiter='comma')\n",
    "#     result = np.loadtxt(result_path, delimiter='comma')\n",
    "    \n",
    "    return query, result\n",
    "\n"
   ]
  },
  {
   "cell_type": "code",
   "execution_count": 163,
   "id": "edee9e8d",
   "metadata": {},
   "outputs": [],
   "source": [
    "function_1 = BlackBoxFunction(function_df_dict['function_1'], 'function_1')\n",
    "function_2 = BlackBoxFunction(function_df_dict['function_2'], 'function_2')\n",
    "function_3 = BlackBoxFunction(function_df_dict['function_3'], 'function_3')\n",
    "function_4 = BlackBoxFunction(function_df_dict['function_4'], 'function_4')\n",
    "function_5 = BlackBoxFunction(function_df_dict['function_5'], 'function_5')\n",
    "function_6 = BlackBoxFunction(function_df_dict['function_6'], 'function_6')\n",
    "function_7 = BlackBoxFunction(function_df_dict['function_7'], 'function_7')\n",
    "function_8 = BlackBoxFunction(function_df_dict['function_8'], 'function_8')\n",
    "\n",
    "all_bbox_functions = [function_1, function_2, function_3, function_4, function_5, function_6, function_7, function_8]"
   ]
  },
  {
   "cell_type": "code",
   "execution_count": 164,
   "id": "6fbd86b0",
   "metadata": {},
   "outputs": [
    {
     "name": "stdout",
     "output_type": "stream",
     "text": [
      "None\n",
      "None\n",
      "None\n",
      "None\n",
      "None\n",
      "None\n",
      "None\n",
      "None\n"
     ]
    }
   ],
   "source": [
    "for function in all_bbox_functions:\n",
    "    function.export_data_excel()"
   ]
  }
 ],
 "metadata": {
  "kernelspec": {
   "display_name": "Python 3 (ipykernel)",
   "language": "python",
   "name": "python3"
  },
  "language_info": {
   "codemirror_mode": {
    "name": "ipython",
    "version": 3
   },
   "file_extension": ".py",
   "mimetype": "text/x-python",
   "name": "python",
   "nbconvert_exporter": "python",
   "pygments_lexer": "ipython3",
   "version": "3.9.12"
  }
 },
 "nbformat": 4,
 "nbformat_minor": 5
}
