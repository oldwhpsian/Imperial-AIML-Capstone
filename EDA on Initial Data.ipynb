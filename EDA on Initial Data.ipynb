{
 "cells": [
  {
   "cell_type": "code",
   "execution_count": 1,
   "id": "36f4b6a0",
   "metadata": {},
   "outputs": [],
   "source": [
    "import numpy as np\n",
    "import pandas as pd\n",
    "from matplotlib import pyplot as plt"
   ]
  },
  {
   "cell_type": "code",
   "execution_count": 37,
   "id": "8e1e3c93",
   "metadata": {},
   "outputs": [],
   "source": [
    "total_functions = 8\n",
    "function_dimensions = {}\n",
    "function_names = []\n",
    "initial_inputs = []\n",
    "initial_outputs = []\n",
    "for i in range(1,9):\n",
    "    function_name = f\"function_{i}\"\n",
    "    function_names.append(function_name)\n",
    "    initial_input_data = np.load(f\"initial_data/{function_name}/initial_inputs.npy\")\n",
    "    initial_inputs.append(initial_input_data)\n",
    "    initial_output_data = np.load(f\"initial_data/{function_name}/initial_outputs.npy\")\n",
    "    initial_outputs.append(initial_output_data)\n",
    "    X_dimensions = len(initial_input_data[0])\n",
    "    Y_dimensions = 1 if isinstance(initial_output_data[0], float) else len(initial_output_data[0])\n",
    "    function_dimensions[function_name] = (X_dimensions, Y_dimensions)"
   ]
  },
  {
   "cell_type": "code",
   "execution_count": 66,
   "id": "b15a4770",
   "metadata": {},
   "outputs": [],
   "source": [
    "function_df_dict = {}\n",
    "for (idx, f) in enumerate(function_names):\n",
    "    working_df = pd.DataFrame()\n",
    "    headers = []\n",
    "    for i in range(len(initial_inputs[idx][0])):\n",
    "        headers.append(f\"X_{i+1}\")\n",
    "    working_df[headers] = initial_inputs[idx]\n",
    "    working_df['Y'] = initial_outputs[idx]\n",
    "    function_df_dict[f] = working_df\n",
    "    "
   ]
  },
  {
   "cell_type": "code",
   "execution_count": 92,
   "id": "573189f0",
   "metadata": {},
   "outputs": [
    {
     "data": {
      "text/html": [
       "<div>\n",
       "<style scoped>\n",
       "    .dataframe tbody tr th:only-of-type {\n",
       "        vertical-align: middle;\n",
       "    }\n",
       "\n",
       "    .dataframe tbody tr th {\n",
       "        vertical-align: top;\n",
       "    }\n",
       "\n",
       "    .dataframe thead th {\n",
       "        text-align: right;\n",
       "    }\n",
       "</style>\n",
       "<table border=\"1\" class=\"dataframe\">\n",
       "  <thead>\n",
       "    <tr style=\"text-align: right;\">\n",
       "      <th></th>\n",
       "      <th>X_1</th>\n",
       "      <th>X_2</th>\n",
       "      <th>Y</th>\n",
       "    </tr>\n",
       "  </thead>\n",
       "  <tbody>\n",
       "    <tr>\n",
       "      <th>0</th>\n",
       "      <td>0.319404</td>\n",
       "      <td>0.762959</td>\n",
       "      <td>1.322677e-79</td>\n",
       "    </tr>\n",
       "    <tr>\n",
       "      <th>1</th>\n",
       "      <td>0.574329</td>\n",
       "      <td>0.879898</td>\n",
       "      <td>1.033078e-46</td>\n",
       "    </tr>\n",
       "    <tr>\n",
       "      <th>2</th>\n",
       "      <td>0.731024</td>\n",
       "      <td>0.733000</td>\n",
       "      <td>7.710875e-16</td>\n",
       "    </tr>\n",
       "    <tr>\n",
       "      <th>3</th>\n",
       "      <td>0.840353</td>\n",
       "      <td>0.264732</td>\n",
       "      <td>3.341771e-124</td>\n",
       "    </tr>\n",
       "    <tr>\n",
       "      <th>4</th>\n",
       "      <td>0.650114</td>\n",
       "      <td>0.681526</td>\n",
       "      <td>-3.606063e-03</td>\n",
       "    </tr>\n",
       "    <tr>\n",
       "      <th>5</th>\n",
       "      <td>0.410437</td>\n",
       "      <td>0.147554</td>\n",
       "      <td>-2.159249e-54</td>\n",
       "    </tr>\n",
       "    <tr>\n",
       "      <th>6</th>\n",
       "      <td>0.312691</td>\n",
       "      <td>0.078723</td>\n",
       "      <td>-2.089093e-91</td>\n",
       "    </tr>\n",
       "    <tr>\n",
       "      <th>7</th>\n",
       "      <td>0.683418</td>\n",
       "      <td>0.861057</td>\n",
       "      <td>2.535001e-40</td>\n",
       "    </tr>\n",
       "    <tr>\n",
       "      <th>8</th>\n",
       "      <td>0.082507</td>\n",
       "      <td>0.403488</td>\n",
       "      <td>3.606771e-81</td>\n",
       "    </tr>\n",
       "    <tr>\n",
       "      <th>9</th>\n",
       "      <td>0.883890</td>\n",
       "      <td>0.582254</td>\n",
       "      <td>6.229856e-48</td>\n",
       "    </tr>\n",
       "  </tbody>\n",
       "</table>\n",
       "</div>"
      ],
      "text/plain": [
       "        X_1       X_2              Y\n",
       "0  0.319404  0.762959   1.322677e-79\n",
       "1  0.574329  0.879898   1.033078e-46\n",
       "2  0.731024  0.733000   7.710875e-16\n",
       "3  0.840353  0.264732  3.341771e-124\n",
       "4  0.650114  0.681526  -3.606063e-03\n",
       "5  0.410437  0.147554  -2.159249e-54\n",
       "6  0.312691  0.078723  -2.089093e-91\n",
       "7  0.683418  0.861057   2.535001e-40\n",
       "8  0.082507  0.403488   3.606771e-81\n",
       "9  0.883890  0.582254   6.229856e-48"
      ]
     },
     "execution_count": 92,
     "metadata": {},
     "output_type": "execute_result"
    }
   ],
   "source": [
    "function_df_dict['function_1']"
   ]
  },
  {
   "cell_type": "code",
   "execution_count": 100,
   "id": "c9841a35",
   "metadata": {},
   "outputs": [],
   "source": [
    "def largest_interval_midpoint(X_in):\n",
    "    X_in = np.sort(X_in)\n",
    "    lower = 0\n",
    "    upper = 0\n",
    "    largest_length = 0\n",
    "    length = 0\n",
    "    midpoint = None\n",
    "    \n",
    "    for i in range(len(X_in)-1):\n",
    "        length = X_in[i+1]-X_in[i]\n",
    "        if length > largest_length:\n",
    "            largest_length = length\n",
    "            lower = X_in[i]\n",
    "            upper = X_in[i+1]\n",
    "            midpoint = ((upper-lower)/2)+lower\n",
    "    \n",
    "    return midpoint"
   ]
  },
  {
   "cell_type": "code",
   "execution_count": 120,
   "id": "de8f7484",
   "metadata": {},
   "outputs": [
    {
     "data": {
      "text/plain": [
       "['0.197599-0.492871',\n",
       " '0.240674-0.517012',\n",
       " '0.856453-0.525792-0.668723',\n",
       " '0.53318-0.320368-0.61321-0.908168',\n",
       " '0.630732-0.255244-0.543505-0.663668',\n",
       " '0.345536-0.61763-0.264553-0.301579-0.415394',\n",
       " '0.368718-0.749202-0.189201-0.514297-0.368287-0.886672',\n",
       " '0.265797-0.384769-0.152957-0.831771-0.619797-0.838113-0.360232-0.819889']"
      ]
     },
     "execution_count": 120,
     "metadata": {},
     "output_type": "execute_result"
    }
   ],
   "source": [
    "quieries_X_total = []\n",
    "for idx, f in enumerate(function_names):\n",
    "    X_dimension = function_dimensions[f][0]\n",
    "    headers = []\n",
    "    for i in range(X_dimension):\n",
    "        headers.append(f\"X_{i+1}\")\n",
    "    \n",
    "    quieries_X = []\n",
    "    for header in headers:\n",
    "        quieries_X.append(str(round(largest_interval_midpoint(function_df_dict[f][header]),6)))\n",
    "    quieries_X_total.append('-'.join(quieries_X))\n",
    "\n",
    "quieries_X_total\n",
    "\n",
    "    \n",
    "    "
   ]
  },
  {
   "cell_type": "code",
   "execution_count": 104,
   "id": "b8c82513",
   "metadata": {},
   "outputs": [
    {
     "data": {
      "text/plain": [
       "array([0.07872278, 0.1475543 , 0.26473161, 0.40348751, 0.58225397,\n",
       "       0.68152635, 0.73299988, 0.76295937, 0.86105746, 0.8798981 ])"
      ]
     },
     "execution_count": 104,
     "metadata": {},
     "output_type": "execute_result"
    }
   ],
   "source": [
    "np.sort(function_df_dict['function_1']['X_2'])"
   ]
  },
  {
   "cell_type": "code",
   "execution_count": 122,
   "id": "1726a3d8",
   "metadata": {},
   "outputs": [
    {
     "data": {
      "text/plain": [
       "1.1"
      ]
     },
     "execution_count": 122,
     "metadata": {},
     "output_type": "execute_result"
    }
   ],
   "source": [
    "np.round(1.1000, 3)"
   ]
  },
  {
   "cell_type": "code",
   "execution_count": null,
   "id": "61687153",
   "metadata": {},
   "outputs": [],
   "source": []
  }
 ],
 "metadata": {
  "kernelspec": {
   "display_name": "Python 3 (ipykernel)",
   "language": "python",
   "name": "python3"
  },
  "language_info": {
   "codemirror_mode": {
    "name": "ipython",
    "version": 3
   },
   "file_extension": ".py",
   "mimetype": "text/x-python",
   "name": "python",
   "nbconvert_exporter": "python",
   "pygments_lexer": "ipython3",
   "version": "3.9.7"
  }
 },
 "nbformat": 4,
 "nbformat_minor": 5
}
